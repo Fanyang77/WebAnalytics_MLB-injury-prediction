{
 "cells": [
  {
   "cell_type": "markdown",
   "id": "a73e8075",
   "metadata": {},
   "source": [
    "## 1. load data\n"
   ]
  },
  {
   "cell_type": "code",
   "execution_count": 561,
   "id": "fbecf2b8",
   "metadata": {},
   "outputs": [],
   "source": [
    "import pandas as pd\n",
    "player = pd.read_csv('all_players_stats_cleaned.csv')\n",
    "injury = pd.read_csv('injury_cleaned.csv')"
   ]
  },
  {
   "cell_type": "code",
   "execution_count": 562,
   "id": "547b8abb",
   "metadata": {},
   "outputs": [
    {
     "data": {
      "text/html": [
       "<div>\n",
       "<style scoped>\n",
       "    .dataframe tbody tr th:only-of-type {\n",
       "        vertical-align: middle;\n",
       "    }\n",
       "\n",
       "    .dataframe tbody tr th {\n",
       "        vertical-align: top;\n",
       "    }\n",
       "\n",
       "    .dataframe thead th {\n",
       "        text-align: right;\n",
       "    }\n",
       "</style>\n",
       "<table border=\"1\" class=\"dataframe\">\n",
       "  <thead>\n",
       "    <tr style=\"text-align: right;\">\n",
       "      <th></th>\n",
       "      <th>Name</th>\n",
       "      <th>Team</th>\n",
       "      <th>Year</th>\n",
       "      <th>GP</th>\n",
       "      <th>GS</th>\n",
       "      <th>QS</th>\n",
       "      <th>W</th>\n",
       "      <th>L</th>\n",
       "      <th>SV</th>\n",
       "      <th>HLD</th>\n",
       "      <th>...</th>\n",
       "      <th>ER</th>\n",
       "      <th>HR</th>\n",
       "      <th>BB</th>\n",
       "      <th>K</th>\n",
       "      <th>K/9</th>\n",
       "      <th>P/S</th>\n",
       "      <th>WAR</th>\n",
       "      <th>WHIP</th>\n",
       "      <th>ERA</th>\n",
       "      <th>Position</th>\n",
       "    </tr>\n",
       "  </thead>\n",
       "  <tbody>\n",
       "    <tr>\n",
       "      <th>0</th>\n",
       "      <td>Zac Gallen</td>\n",
       "      <td>ARI</td>\n",
       "      <td>2023</td>\n",
       "      <td>34</td>\n",
       "      <td>34</td>\n",
       "      <td>20</td>\n",
       "      <td>17</td>\n",
       "      <td>9</td>\n",
       "      <td>0</td>\n",
       "      <td>0</td>\n",
       "      <td>...</td>\n",
       "      <td>81</td>\n",
       "      <td>22</td>\n",
       "      <td>47</td>\n",
       "      <td>220</td>\n",
       "      <td>9.4</td>\n",
       "      <td>95.5</td>\n",
       "      <td>4.4</td>\n",
       "      <td>1.12</td>\n",
       "      <td>3.47</td>\n",
       "      <td>SP</td>\n",
       "    </tr>\n",
       "    <tr>\n",
       "      <th>1</th>\n",
       "      <td>Merrill Kelly</td>\n",
       "      <td>ARI</td>\n",
       "      <td>2023</td>\n",
       "      <td>30</td>\n",
       "      <td>30</td>\n",
       "      <td>18</td>\n",
       "      <td>12</td>\n",
       "      <td>8</td>\n",
       "      <td>0</td>\n",
       "      <td>0</td>\n",
       "      <td>...</td>\n",
       "      <td>65</td>\n",
       "      <td>20</td>\n",
       "      <td>69</td>\n",
       "      <td>187</td>\n",
       "      <td>9.5</td>\n",
       "      <td>93.4</td>\n",
       "      <td>3.9</td>\n",
       "      <td>1.19</td>\n",
       "      <td>3.29</td>\n",
       "      <td>SP</td>\n",
       "    </tr>\n",
       "    <tr>\n",
       "      <th>2</th>\n",
       "      <td>Ryne Nelson</td>\n",
       "      <td>ARI</td>\n",
       "      <td>2023</td>\n",
       "      <td>29</td>\n",
       "      <td>27</td>\n",
       "      <td>7</td>\n",
       "      <td>8</td>\n",
       "      <td>8</td>\n",
       "      <td>0</td>\n",
       "      <td>0</td>\n",
       "      <td>...</td>\n",
       "      <td>85</td>\n",
       "      <td>24</td>\n",
       "      <td>46</td>\n",
       "      <td>96</td>\n",
       "      <td>6.0</td>\n",
       "      <td>84.5</td>\n",
       "      <td>0.0</td>\n",
       "      <td>1.42</td>\n",
       "      <td>5.31</td>\n",
       "      <td>SP</td>\n",
       "    </tr>\n",
       "    <tr>\n",
       "      <th>3</th>\n",
       "      <td>Brandon Pfaadt</td>\n",
       "      <td>ARI</td>\n",
       "      <td>2023</td>\n",
       "      <td>19</td>\n",
       "      <td>18</td>\n",
       "      <td>3</td>\n",
       "      <td>3</td>\n",
       "      <td>9</td>\n",
       "      <td>0</td>\n",
       "      <td>0</td>\n",
       "      <td>...</td>\n",
       "      <td>61</td>\n",
       "      <td>22</td>\n",
       "      <td>26</td>\n",
       "      <td>94</td>\n",
       "      <td>8.8</td>\n",
       "      <td>85.2</td>\n",
       "      <td>-0.4</td>\n",
       "      <td>1.41</td>\n",
       "      <td>5.72</td>\n",
       "      <td>SP</td>\n",
       "    </tr>\n",
       "    <tr>\n",
       "      <th>4</th>\n",
       "      <td>Tommy Henry</td>\n",
       "      <td>ARI</td>\n",
       "      <td>2023</td>\n",
       "      <td>17</td>\n",
       "      <td>16</td>\n",
       "      <td>6</td>\n",
       "      <td>5</td>\n",
       "      <td>4</td>\n",
       "      <td>0</td>\n",
       "      <td>0</td>\n",
       "      <td>...</td>\n",
       "      <td>41</td>\n",
       "      <td>12</td>\n",
       "      <td>35</td>\n",
       "      <td>64</td>\n",
       "      <td>6.5</td>\n",
       "      <td>86.3</td>\n",
       "      <td>1.1</td>\n",
       "      <td>1.36</td>\n",
       "      <td>4.15</td>\n",
       "      <td>SP</td>\n",
       "    </tr>\n",
       "  </tbody>\n",
       "</table>\n",
       "<p>5 rows × 22 columns</p>\n",
       "</div>"
      ],
      "text/plain": [
       "             Name Team  Year  GP  GS  QS   W  L  SV  HLD  ...  ER  HR  BB  \\\n",
       "0      Zac Gallen  ARI  2023  34  34  20  17  9   0    0  ...  81  22  47   \n",
       "1   Merrill Kelly  ARI  2023  30  30  18  12  8   0    0  ...  65  20  69   \n",
       "2     Ryne Nelson  ARI  2023  29  27   7   8  8   0    0  ...  85  24  46   \n",
       "3  Brandon Pfaadt  ARI  2023  19  18   3   3  9   0    0  ...  61  22  26   \n",
       "4     Tommy Henry  ARI  2023  17  16   6   5  4   0    0  ...  41  12  35   \n",
       "\n",
       "     K  K/9   P/S  WAR  WHIP   ERA  Position  \n",
       "0  220  9.4  95.5  4.4  1.12  3.47        SP  \n",
       "1  187  9.5  93.4  3.9  1.19  3.29        SP  \n",
       "2   96  6.0  84.5  0.0  1.42  5.31        SP  \n",
       "3   94  8.8  85.2 -0.4  1.41  5.72        SP  \n",
       "4   64  6.5  86.3  1.1  1.36  4.15        SP  \n",
       "\n",
       "[5 rows x 22 columns]"
      ]
     },
     "execution_count": 562,
     "metadata": {},
     "output_type": "execute_result"
    }
   ],
   "source": [
    "player.head()"
   ]
  },
  {
   "cell_type": "code",
   "execution_count": 563,
   "id": "1772352d",
   "metadata": {},
   "outputs": [
    {
     "data": {
      "text/plain": [
       "15744"
      ]
     },
     "execution_count": 563,
     "metadata": {},
     "output_type": "execute_result"
    }
   ],
   "source": [
    "player.shape[0]"
   ]
  },
  {
   "cell_type": "code",
   "execution_count": 564,
   "id": "309e471c",
   "metadata": {},
   "outputs": [
    {
     "data": {
      "text/html": [
       "<div>\n",
       "<style scoped>\n",
       "    .dataframe tbody tr th:only-of-type {\n",
       "        vertical-align: middle;\n",
       "    }\n",
       "\n",
       "    .dataframe tbody tr th {\n",
       "        vertical-align: top;\n",
       "    }\n",
       "\n",
       "    .dataframe thead th {\n",
       "        text-align: right;\n",
       "    }\n",
       "</style>\n",
       "<table border=\"1\" class=\"dataframe\">\n",
       "  <thead>\n",
       "    <tr style=\"text-align: right;\">\n",
       "      <th></th>\n",
       "      <th>Year</th>\n",
       "      <th>Name</th>\n",
       "      <th>Injury</th>\n",
       "    </tr>\n",
       "  </thead>\n",
       "  <tbody>\n",
       "    <tr>\n",
       "      <th>0</th>\n",
       "      <td>2003</td>\n",
       "      <td>Carlos Hernandez</td>\n",
       "      <td>1</td>\n",
       "    </tr>\n",
       "    <tr>\n",
       "      <th>1</th>\n",
       "      <td>2003</td>\n",
       "      <td>A.J. Burnett</td>\n",
       "      <td>1</td>\n",
       "    </tr>\n",
       "    <tr>\n",
       "      <th>2</th>\n",
       "      <td>2003</td>\n",
       "      <td>Justin Miller</td>\n",
       "      <td>1</td>\n",
       "    </tr>\n",
       "    <tr>\n",
       "      <th>3</th>\n",
       "      <td>2003</td>\n",
       "      <td>Ramon Hernandez</td>\n",
       "      <td>1</td>\n",
       "    </tr>\n",
       "    <tr>\n",
       "      <th>4</th>\n",
       "      <td>2003</td>\n",
       "      <td>Mike Piazza</td>\n",
       "      <td>1</td>\n",
       "    </tr>\n",
       "  </tbody>\n",
       "</table>\n",
       "</div>"
      ],
      "text/plain": [
       "   Year              Name  Injury\n",
       "0  2003  Carlos Hernandez       1\n",
       "1  2003      A.J. Burnett       1\n",
       "2  2003     Justin Miller       1\n",
       "3  2003   Ramon Hernandez       1\n",
       "4  2003       Mike Piazza       1"
      ]
     },
     "execution_count": 564,
     "metadata": {},
     "output_type": "execute_result"
    }
   ],
   "source": [
    "injury.rename(columns={'Notes': 'Injury'}, inplace=True)\n",
    "injury.head()"
   ]
  },
  {
   "cell_type": "code",
   "execution_count": 565,
   "id": "bbd3334d",
   "metadata": {},
   "outputs": [
    {
     "data": {
      "text/plain": [
       "13244"
      ]
     },
     "execution_count": 565,
     "metadata": {},
     "output_type": "execute_result"
    }
   ],
   "source": [
    "injury.shape[0]"
   ]
  },
  {
   "cell_type": "code",
   "execution_count": 566,
   "id": "cb5b7c18",
   "metadata": {},
   "outputs": [
    {
     "data": {
      "image/png": "[encoded data removed]",
      "text/plain": [
       "<Figure size 432x288 with 1 Axes>"
      ]
     },
     "metadata": {},
     "output_type": "display_data"
    }
   ],
   "source": [
    "import matplotlib.pyplot as plt\n",
    "injury_counts = merged_df['Injury'].value_counts()\n",
    "plt.pie(injury_counts, labels=injury_counts.index, autopct='%1.1f%%', startangle=140)\n",
    "plt.title('Injury Distribution')\n",
    "plt.show()\n"
   ]
  },
  {
   "cell_type": "code",
   "execution_count": 567,
   "id": "79ed476e",
   "metadata": {},
   "outputs": [
    {
     "data": {
      "text/plain": [
       "<AxesSubplot:xlabel='Year', ylabel='Density'>"
      ]
     },
     "execution_count": 567,
     "metadata": {},
     "output_type": "execute_result"
    },
    {
     "data": {
      "image/png": "[encoded data removed]",
      "text/plain": [
       "<Figure size 432x288 with 1 Axes>"
      ]
     },
     "metadata": {
      "needs_background": "light"
     },
     "output_type": "display_data"
    }
   ],
   "source": [
    "import seaborn as sns\n",
    "sns.kdeplot(data=merged_df, x=\"Year\", hue=\"Injury\", multiple=\"stack\")"
   ]
  },
  {
   "cell_type": "markdown",
   "id": "a33080b3",
   "metadata": {},
   "source": [
    "## 2. Merge performance stats and injury stats"
   ]
  },
  {
   "cell_type": "code",
   "execution_count": 568,
   "id": "2697f82f",
   "metadata": {},
   "outputs": [
    {
     "data": {
      "text/html": [
       "<div>\n",
       "<style scoped>\n",
       "    .dataframe tbody tr th:only-of-type {\n",
       "        vertical-align: middle;\n",
       "    }\n",
       "\n",
       "    .dataframe tbody tr th {\n",
       "        vertical-align: top;\n",
       "    }\n",
       "\n",
       "    .dataframe thead th {\n",
       "        text-align: right;\n",
       "    }\n",
       "</style>\n",
       "<table border=\"1\" class=\"dataframe\">\n",
       "  <thead>\n",
       "    <tr style=\"text-align: right;\">\n",
       "      <th></th>\n",
       "      <th>Name</th>\n",
       "      <th>Team</th>\n",
       "      <th>Year</th>\n",
       "      <th>GP</th>\n",
       "      <th>GS</th>\n",
       "      <th>QS</th>\n",
       "      <th>W</th>\n",
       "      <th>L</th>\n",
       "      <th>SV</th>\n",
       "      <th>HLD</th>\n",
       "      <th>...</th>\n",
       "      <th>HR</th>\n",
       "      <th>BB</th>\n",
       "      <th>K</th>\n",
       "      <th>K/9</th>\n",
       "      <th>P/S</th>\n",
       "      <th>WAR</th>\n",
       "      <th>WHIP</th>\n",
       "      <th>ERA</th>\n",
       "      <th>Position</th>\n",
       "      <th>Injury</th>\n",
       "    </tr>\n",
       "  </thead>\n",
       "  <tbody>\n",
       "    <tr>\n",
       "      <th>0</th>\n",
       "      <td>Zac Gallen</td>\n",
       "      <td>ARI</td>\n",
       "      <td>2023</td>\n",
       "      <td>34</td>\n",
       "      <td>34</td>\n",
       "      <td>20</td>\n",
       "      <td>17</td>\n",
       "      <td>9</td>\n",
       "      <td>0</td>\n",
       "      <td>0</td>\n",
       "      <td>...</td>\n",
       "      <td>22</td>\n",
       "      <td>47</td>\n",
       "      <td>220</td>\n",
       "      <td>9.4</td>\n",
       "      <td>95.5</td>\n",
       "      <td>4.4</td>\n",
       "      <td>1.12</td>\n",
       "      <td>3.47</td>\n",
       "      <td>SP</td>\n",
       "      <td>0.0</td>\n",
       "    </tr>\n",
       "    <tr>\n",
       "      <th>1</th>\n",
       "      <td>Merrill Kelly</td>\n",
       "      <td>ARI</td>\n",
       "      <td>2023</td>\n",
       "      <td>30</td>\n",
       "      <td>30</td>\n",
       "      <td>18</td>\n",
       "      <td>12</td>\n",
       "      <td>8</td>\n",
       "      <td>0</td>\n",
       "      <td>0</td>\n",
       "      <td>...</td>\n",
       "      <td>20</td>\n",
       "      <td>69</td>\n",
       "      <td>187</td>\n",
       "      <td>9.5</td>\n",
       "      <td>93.4</td>\n",
       "      <td>3.9</td>\n",
       "      <td>1.19</td>\n",
       "      <td>3.29</td>\n",
       "      <td>SP</td>\n",
       "      <td>0.0</td>\n",
       "    </tr>\n",
       "    <tr>\n",
       "      <th>2</th>\n",
       "      <td>Ryne Nelson</td>\n",
       "      <td>ARI</td>\n",
       "      <td>2023</td>\n",
       "      <td>29</td>\n",
       "      <td>27</td>\n",
       "      <td>7</td>\n",
       "      <td>8</td>\n",
       "      <td>8</td>\n",
       "      <td>0</td>\n",
       "      <td>0</td>\n",
       "      <td>...</td>\n",
       "      <td>24</td>\n",
       "      <td>46</td>\n",
       "      <td>96</td>\n",
       "      <td>6.0</td>\n",
       "      <td>84.5</td>\n",
       "      <td>0.0</td>\n",
       "      <td>1.42</td>\n",
       "      <td>5.31</td>\n",
       "      <td>SP</td>\n",
       "      <td>0.0</td>\n",
       "    </tr>\n",
       "    <tr>\n",
       "      <th>3</th>\n",
       "      <td>Brandon Pfaadt</td>\n",
       "      <td>ARI</td>\n",
       "      <td>2023</td>\n",
       "      <td>19</td>\n",
       "      <td>18</td>\n",
       "      <td>3</td>\n",
       "      <td>3</td>\n",
       "      <td>9</td>\n",
       "      <td>0</td>\n",
       "      <td>0</td>\n",
       "      <td>...</td>\n",
       "      <td>22</td>\n",
       "      <td>26</td>\n",
       "      <td>94</td>\n",
       "      <td>8.8</td>\n",
       "      <td>85.2</td>\n",
       "      <td>-0.4</td>\n",
       "      <td>1.41</td>\n",
       "      <td>5.72</td>\n",
       "      <td>SP</td>\n",
       "      <td>0.0</td>\n",
       "    </tr>\n",
       "    <tr>\n",
       "      <th>4</th>\n",
       "      <td>Tommy Henry</td>\n",
       "      <td>ARI</td>\n",
       "      <td>2023</td>\n",
       "      <td>17</td>\n",
       "      <td>16</td>\n",
       "      <td>6</td>\n",
       "      <td>5</td>\n",
       "      <td>4</td>\n",
       "      <td>0</td>\n",
       "      <td>0</td>\n",
       "      <td>...</td>\n",
       "      <td>12</td>\n",
       "      <td>35</td>\n",
       "      <td>64</td>\n",
       "      <td>6.5</td>\n",
       "      <td>86.3</td>\n",
       "      <td>1.1</td>\n",
       "      <td>1.36</td>\n",
       "      <td>4.15</td>\n",
       "      <td>SP</td>\n",
       "      <td>0.0</td>\n",
       "    </tr>\n",
       "    <tr>\n",
       "      <th>...</th>\n",
       "      <td>...</td>\n",
       "      <td>...</td>\n",
       "      <td>...</td>\n",
       "      <td>...</td>\n",
       "      <td>...</td>\n",
       "      <td>...</td>\n",
       "      <td>...</td>\n",
       "      <td>...</td>\n",
       "      <td>...</td>\n",
       "      <td>...</td>\n",
       "      <td>...</td>\n",
       "      <td>...</td>\n",
       "      <td>...</td>\n",
       "      <td>...</td>\n",
       "      <td>...</td>\n",
       "      <td>...</td>\n",
       "      <td>...</td>\n",
       "      <td>...</td>\n",
       "      <td>...</td>\n",
       "      <td>...</td>\n",
       "      <td>...</td>\n",
       "    </tr>\n",
       "    <tr>\n",
       "      <th>16316</th>\n",
       "      <td>Jesse English</td>\n",
       "      <td>WSH</td>\n",
       "      <td>2010</td>\n",
       "      <td>7</td>\n",
       "      <td>0</td>\n",
       "      <td>0</td>\n",
       "      <td>0</td>\n",
       "      <td>0</td>\n",
       "      <td>0</td>\n",
       "      <td>0</td>\n",
       "      <td>...</td>\n",
       "      <td>0</td>\n",
       "      <td>2</td>\n",
       "      <td>4</td>\n",
       "      <td>5.1</td>\n",
       "      <td>0.0</td>\n",
       "      <td>0.1</td>\n",
       "      <td>1.71</td>\n",
       "      <td>3.86</td>\n",
       "      <td>RP</td>\n",
       "      <td>0.0</td>\n",
       "    </tr>\n",
       "    <tr>\n",
       "      <th>16317</th>\n",
       "      <td>Matt Chico</td>\n",
       "      <td>WSH</td>\n",
       "      <td>2010</td>\n",
       "      <td>1</td>\n",
       "      <td>1</td>\n",
       "      <td>0</td>\n",
       "      <td>0</td>\n",
       "      <td>0</td>\n",
       "      <td>0</td>\n",
       "      <td>0</td>\n",
       "      <td>...</td>\n",
       "      <td>0</td>\n",
       "      <td>0</td>\n",
       "      <td>3</td>\n",
       "      <td>5.4</td>\n",
       "      <td>79.0</td>\n",
       "      <td>0.1</td>\n",
       "      <td>1.20</td>\n",
       "      <td>3.60</td>\n",
       "      <td>SP</td>\n",
       "      <td>0.0</td>\n",
       "    </tr>\n",
       "    <tr>\n",
       "      <th>16318</th>\n",
       "      <td>Joe Bisenius</td>\n",
       "      <td>WSH</td>\n",
       "      <td>2010</td>\n",
       "      <td>5</td>\n",
       "      <td>0</td>\n",
       "      <td>0</td>\n",
       "      <td>0</td>\n",
       "      <td>0</td>\n",
       "      <td>0</td>\n",
       "      <td>0</td>\n",
       "      <td>...</td>\n",
       "      <td>1</td>\n",
       "      <td>6</td>\n",
       "      <td>5</td>\n",
       "      <td>9.6</td>\n",
       "      <td>0.0</td>\n",
       "      <td>-0.2</td>\n",
       "      <td>2.57</td>\n",
       "      <td>9.64</td>\n",
       "      <td>RP</td>\n",
       "      <td>0.0</td>\n",
       "    </tr>\n",
       "    <tr>\n",
       "      <th>16319</th>\n",
       "      <td>Garrett Mock</td>\n",
       "      <td>WSH</td>\n",
       "      <td>2010</td>\n",
       "      <td>1</td>\n",
       "      <td>1</td>\n",
       "      <td>0</td>\n",
       "      <td>0</td>\n",
       "      <td>0</td>\n",
       "      <td>0</td>\n",
       "      <td>0</td>\n",
       "      <td>...</td>\n",
       "      <td>2</td>\n",
       "      <td>5</td>\n",
       "      <td>3</td>\n",
       "      <td>8.1</td>\n",
       "      <td>84.0</td>\n",
       "      <td>0.0</td>\n",
       "      <td>2.70</td>\n",
       "      <td>5.40</td>\n",
       "      <td>SP</td>\n",
       "      <td>0.0</td>\n",
       "    </tr>\n",
       "    <tr>\n",
       "      <th>16320</th>\n",
       "      <td>Jason Bergmann</td>\n",
       "      <td>WSH</td>\n",
       "      <td>2010</td>\n",
       "      <td>4</td>\n",
       "      <td>0</td>\n",
       "      <td>0</td>\n",
       "      <td>0</td>\n",
       "      <td>1</td>\n",
       "      <td>0</td>\n",
       "      <td>1</td>\n",
       "      <td>...</td>\n",
       "      <td>2</td>\n",
       "      <td>1</td>\n",
       "      <td>2</td>\n",
       "      <td>7.7</td>\n",
       "      <td>0.0</td>\n",
       "      <td>-0.2</td>\n",
       "      <td>1.71</td>\n",
       "      <td>15.43</td>\n",
       "      <td>RP</td>\n",
       "      <td>0.0</td>\n",
       "    </tr>\n",
       "  </tbody>\n",
       "</table>\n",
       "<p>16321 rows × 23 columns</p>\n",
       "</div>"
      ],
      "text/plain": [
       "                 Name Team  Year  GP  GS  QS   W  L  SV  HLD  ...  HR  BB  \\\n",
       "0          Zac Gallen  ARI  2023  34  34  20  17  9   0    0  ...  22  47   \n",
       "1       Merrill Kelly  ARI  2023  30  30  18  12  8   0    0  ...  20  69   \n",
       "2         Ryne Nelson  ARI  2023  29  27   7   8  8   0    0  ...  24  46   \n",
       "3      Brandon Pfaadt  ARI  2023  19  18   3   3  9   0    0  ...  22  26   \n",
       "4         Tommy Henry  ARI  2023  17  16   6   5  4   0    0  ...  12  35   \n",
       "...               ...  ...   ...  ..  ..  ..  .. ..  ..  ...  ...  ..  ..   \n",
       "16316   Jesse English  WSH  2010   7   0   0   0  0   0    0  ...   0   2   \n",
       "16317      Matt Chico  WSH  2010   1   1   0   0  0   0    0  ...   0   0   \n",
       "16318    Joe Bisenius  WSH  2010   5   0   0   0  0   0    0  ...   1   6   \n",
       "16319    Garrett Mock  WSH  2010   1   1   0   0  0   0    0  ...   2   5   \n",
       "16320  Jason Bergmann  WSH  2010   4   0   0   0  1   0    1  ...   2   1   \n",
       "\n",
       "         K  K/9   P/S  WAR  WHIP    ERA  Position  Injury  \n",
       "0      220  9.4  95.5  4.4  1.12   3.47        SP     0.0  \n",
       "1      187  9.5  93.4  3.9  1.19   3.29        SP     0.0  \n",
       "2       96  6.0  84.5  0.0  1.42   5.31        SP     0.0  \n",
       "3       94  8.8  85.2 -0.4  1.41   5.72        SP     0.0  \n",
       "4       64  6.5  86.3  1.1  1.36   4.15        SP     0.0  \n",
       "...    ...  ...   ...  ...   ...    ...       ...     ...  \n",
       "16316    4  5.1   0.0  0.1  1.71   3.86        RP     0.0  \n",
       "16317    3  5.4  79.0  0.1  1.20   3.60        SP     0.0  \n",
       "16318    5  9.6   0.0 -0.2  2.57   9.64        RP     0.0  \n",
       "16319    3  8.1  84.0  0.0  2.70   5.40        SP     0.0  \n",
       "16320    2  7.7   0.0 -0.2  1.71  15.43        RP     0.0  \n",
       "\n",
       "[16321 rows x 23 columns]"
      ]
     },
     "execution_count": 568,
     "metadata": {},
     "output_type": "execute_result"
    }
   ],
   "source": [
    "# merge the two dataset together\n",
    "merged_df = pd.merge(player, injury, on=['Name', 'Year'], how='left')\n",
    "merged_df['Injury'].fillna(0, inplace=True)\n",
    "merged_df"
   ]
  },
  {
   "cell_type": "code",
   "execution_count": 569,
   "id": "7c83bc74",
   "metadata": {},
   "outputs": [
    {
     "data": {
      "text/plain": [
       "16321"
      ]
     },
     "execution_count": 569,
     "metadata": {},
     "output_type": "execute_result"
    }
   ],
   "source": [
    "merged_df.shape[0]"
   ]
  },
  {
   "cell_type": "markdown",
   "id": "7ade722b",
   "metadata": {},
   "source": [
    "## 3.Remove Duplicates & replace Non-numerica placeholders with NaN & replace infinite value with  a large finite value\n",
    "\n",
    "### please note that there are more rows [16321] than [15744] which indicates there are duplicates matches from injury table being merged into player table"
   ]
  },
  {
   "cell_type": "code",
   "execution_count": 570,
   "id": "ed6a6ca0",
   "metadata": {},
   "outputs": [
    {
     "data": {
      "text/plain": [
       "(15744, 23)"
      ]
     },
     "execution_count": 570,
     "metadata": {},
     "output_type": "execute_result"
    }
   ],
   "source": [
    "injury = injury.drop_duplicates(subset=['Name', 'Year'])\n",
    "merged_df = pd.merge(player, injury, on=['Name', 'Year'], how='left')\n",
    "merged_df['Injury'].fillna(0, inplace=True)\n",
    "merged_df.shape"
   ]
  },
  {
   "cell_type": "code",
   "execution_count": 571,
   "id": "946f17ac",
   "metadata": {},
   "outputs": [],
   "source": [
    "import numpy as np\n",
    "merged_df.replace('---', np.nan, inplace=True)"
   ]
  },
  {
   "cell_type": "code",
   "execution_count": 572,
   "id": "8f8f4c08",
   "metadata": {},
   "outputs": [],
   "source": [
    "merged_df['ERA'] = pd.to_numeric(merged_df['ERA'], errors='coerce', downcast='float')"
   ]
  },
  {
   "cell_type": "code",
   "execution_count": 573,
   "id": "0a8a9f7c",
   "metadata": {},
   "outputs": [],
   "source": [
    "merged_df['WHIP'].replace(np.inf, np.nan, inplace=True)"
   ]
  },
  {
   "cell_type": "code",
   "execution_count": 574,
   "id": "5c1fd6a1",
   "metadata": {},
   "outputs": [
    {
     "name": "stdout",
     "output_type": "stream",
     "text": [
      "Index(['Name', 'Team', 'Year', 'GP', 'GS', 'QS', 'W', 'L', 'SV', 'HLD', 'IP',\n",
      "       'H', 'ER', 'HR', 'BB', 'K', 'K/9', 'P/S', 'WAR', 'WHIP', 'ERA',\n",
      "       'Position', 'Injury'],\n",
      "      dtype='object')\n"
     ]
    }
   ],
   "source": [
    "print(merged_df.columns)"
   ]
  },
  {
   "cell_type": "code",
   "execution_count": 575,
   "id": "b5ad3cd9",
   "metadata": {},
   "outputs": [
    {
     "name": "stdout",
     "output_type": "stream",
     "text": [
      "Name         0\n",
      "Team         0\n",
      "Year         0\n",
      "GP           0\n",
      "GS           0\n",
      "QS           0\n",
      "W            0\n",
      "L            0\n",
      "SV           0\n",
      "HLD          0\n",
      "IP           0\n",
      "H            0\n",
      "ER           0\n",
      "HR           0\n",
      "BB           0\n",
      "K            0\n",
      "K/9          0\n",
      "P/S          0\n",
      "WAR          0\n",
      "WHIP        19\n",
      "ERA          4\n",
      "Position     0\n",
      "Injury       0\n",
      "dtype: int64\n"
     ]
    }
   ],
   "source": [
    "missing_values_count_per_column = merged_df.isna().sum()\n",
    "print(missing_values_count_per_column)"
   ]
  },
  {
   "cell_type": "code",
   "execution_count": 576,
   "id": "24e6df80",
   "metadata": {},
   "outputs": [],
   "source": [
    "merged_df.dropna(inplace=True)"
   ]
  },
  {
   "cell_type": "code",
   "execution_count": 577,
   "id": "6e668e15",
   "metadata": {},
   "outputs": [
    {
     "name": "stdout",
     "output_type": "stream",
     "text": [
      "Name        0\n",
      "Team        0\n",
      "Year        0\n",
      "GP          0\n",
      "GS          0\n",
      "QS          0\n",
      "W           0\n",
      "L           0\n",
      "SV          0\n",
      "HLD         0\n",
      "IP          0\n",
      "H           0\n",
      "ER          0\n",
      "HR          0\n",
      "BB          0\n",
      "K           0\n",
      "K/9         0\n",
      "P/S         0\n",
      "WAR         0\n",
      "WHIP        0\n",
      "ERA         0\n",
      "Position    0\n",
      "Injury      0\n",
      "dtype: int64\n"
     ]
    }
   ],
   "source": [
    "missing_values_count_per_column = merged_df.isna().sum()\n",
    "print(missing_values_count_per_column)"
   ]
  },
  {
   "cell_type": "markdown",
   "id": "f3d4f45d",
   "metadata": {},
   "source": [
    "## 4. Remove irrelavant information such as Name, Team"
   ]
  },
  {
   "cell_type": "code",
   "execution_count": 578,
   "id": "e5ff527c",
   "metadata": {},
   "outputs": [],
   "source": [
    "merged_df=merged_df.drop([\"Name\",\"Team\"],axis=1)"
   ]
  },
  {
   "cell_type": "code",
   "execution_count": 579,
   "id": "3ddf5f31",
   "metadata": {},
   "outputs": [
    {
     "data": {
      "text/html": [
       "<div>\n",
       "<style scoped>\n",
       "    .dataframe tbody tr th:only-of-type {\n",
       "        vertical-align: middle;\n",
       "    }\n",
       "\n",
       "    .dataframe tbody tr th {\n",
       "        vertical-align: top;\n",
       "    }\n",
       "\n",
       "    .dataframe thead th {\n",
       "        text-align: right;\n",
       "    }\n",
       "</style>\n",
       "<table border=\"1\" class=\"dataframe\">\n",
       "  <thead>\n",
       "    <tr style=\"text-align: right;\">\n",
       "      <th></th>\n",
       "      <th>Year</th>\n",
       "      <th>GP</th>\n",
       "      <th>GS</th>\n",
       "      <th>QS</th>\n",
       "      <th>W</th>\n",
       "      <th>L</th>\n",
       "      <th>SV</th>\n",
       "      <th>HLD</th>\n",
       "      <th>IP</th>\n",
       "      <th>H</th>\n",
       "      <th>...</th>\n",
       "      <th>HR</th>\n",
       "      <th>BB</th>\n",
       "      <th>K</th>\n",
       "      <th>K/9</th>\n",
       "      <th>P/S</th>\n",
       "      <th>WAR</th>\n",
       "      <th>WHIP</th>\n",
       "      <th>ERA</th>\n",
       "      <th>Position</th>\n",
       "      <th>Injury</th>\n",
       "    </tr>\n",
       "  </thead>\n",
       "  <tbody>\n",
       "    <tr>\n",
       "      <th>0</th>\n",
       "      <td>2023</td>\n",
       "      <td>34</td>\n",
       "      <td>34</td>\n",
       "      <td>20</td>\n",
       "      <td>17</td>\n",
       "      <td>9</td>\n",
       "      <td>0</td>\n",
       "      <td>0</td>\n",
       "      <td>210.0</td>\n",
       "      <td>188</td>\n",
       "      <td>...</td>\n",
       "      <td>22</td>\n",
       "      <td>47</td>\n",
       "      <td>220</td>\n",
       "      <td>9.4</td>\n",
       "      <td>95.5</td>\n",
       "      <td>4.4</td>\n",
       "      <td>1.12</td>\n",
       "      <td>3.47</td>\n",
       "      <td>SP</td>\n",
       "      <td>0.0</td>\n",
       "    </tr>\n",
       "    <tr>\n",
       "      <th>1</th>\n",
       "      <td>2023</td>\n",
       "      <td>30</td>\n",
       "      <td>30</td>\n",
       "      <td>18</td>\n",
       "      <td>12</td>\n",
       "      <td>8</td>\n",
       "      <td>0</td>\n",
       "      <td>0</td>\n",
       "      <td>177.2</td>\n",
       "      <td>143</td>\n",
       "      <td>...</td>\n",
       "      <td>20</td>\n",
       "      <td>69</td>\n",
       "      <td>187</td>\n",
       "      <td>9.5</td>\n",
       "      <td>93.4</td>\n",
       "      <td>3.9</td>\n",
       "      <td>1.19</td>\n",
       "      <td>3.29</td>\n",
       "      <td>SP</td>\n",
       "      <td>0.0</td>\n",
       "    </tr>\n",
       "    <tr>\n",
       "      <th>2</th>\n",
       "      <td>2023</td>\n",
       "      <td>29</td>\n",
       "      <td>27</td>\n",
       "      <td>7</td>\n",
       "      <td>8</td>\n",
       "      <td>8</td>\n",
       "      <td>0</td>\n",
       "      <td>0</td>\n",
       "      <td>144.0</td>\n",
       "      <td>159</td>\n",
       "      <td>...</td>\n",
       "      <td>24</td>\n",
       "      <td>46</td>\n",
       "      <td>96</td>\n",
       "      <td>6.0</td>\n",
       "      <td>84.5</td>\n",
       "      <td>0.0</td>\n",
       "      <td>1.42</td>\n",
       "      <td>5.31</td>\n",
       "      <td>SP</td>\n",
       "      <td>0.0</td>\n",
       "    </tr>\n",
       "    <tr>\n",
       "      <th>3</th>\n",
       "      <td>2023</td>\n",
       "      <td>19</td>\n",
       "      <td>18</td>\n",
       "      <td>3</td>\n",
       "      <td>3</td>\n",
       "      <td>9</td>\n",
       "      <td>0</td>\n",
       "      <td>0</td>\n",
       "      <td>96.0</td>\n",
       "      <td>109</td>\n",
       "      <td>...</td>\n",
       "      <td>22</td>\n",
       "      <td>26</td>\n",
       "      <td>94</td>\n",
       "      <td>8.8</td>\n",
       "      <td>85.2</td>\n",
       "      <td>-0.4</td>\n",
       "      <td>1.41</td>\n",
       "      <td>5.72</td>\n",
       "      <td>SP</td>\n",
       "      <td>0.0</td>\n",
       "    </tr>\n",
       "    <tr>\n",
       "      <th>4</th>\n",
       "      <td>2023</td>\n",
       "      <td>17</td>\n",
       "      <td>16</td>\n",
       "      <td>6</td>\n",
       "      <td>5</td>\n",
       "      <td>4</td>\n",
       "      <td>0</td>\n",
       "      <td>0</td>\n",
       "      <td>89.0</td>\n",
       "      <td>86</td>\n",
       "      <td>...</td>\n",
       "      <td>12</td>\n",
       "      <td>35</td>\n",
       "      <td>64</td>\n",
       "      <td>6.5</td>\n",
       "      <td>86.3</td>\n",
       "      <td>1.1</td>\n",
       "      <td>1.36</td>\n",
       "      <td>4.15</td>\n",
       "      <td>SP</td>\n",
       "      <td>0.0</td>\n",
       "    </tr>\n",
       "    <tr>\n",
       "      <th>...</th>\n",
       "      <td>...</td>\n",
       "      <td>...</td>\n",
       "      <td>...</td>\n",
       "      <td>...</td>\n",
       "      <td>...</td>\n",
       "      <td>...</td>\n",
       "      <td>...</td>\n",
       "      <td>...</td>\n",
       "      <td>...</td>\n",
       "      <td>...</td>\n",
       "      <td>...</td>\n",
       "      <td>...</td>\n",
       "      <td>...</td>\n",
       "      <td>...</td>\n",
       "      <td>...</td>\n",
       "      <td>...</td>\n",
       "      <td>...</td>\n",
       "      <td>...</td>\n",
       "      <td>...</td>\n",
       "      <td>...</td>\n",
       "      <td>...</td>\n",
       "    </tr>\n",
       "    <tr>\n",
       "      <th>15739</th>\n",
       "      <td>2010</td>\n",
       "      <td>7</td>\n",
       "      <td>0</td>\n",
       "      <td>0</td>\n",
       "      <td>0</td>\n",
       "      <td>0</td>\n",
       "      <td>0</td>\n",
       "      <td>0</td>\n",
       "      <td>7.0</td>\n",
       "      <td>10</td>\n",
       "      <td>...</td>\n",
       "      <td>0</td>\n",
       "      <td>2</td>\n",
       "      <td>4</td>\n",
       "      <td>5.1</td>\n",
       "      <td>0.0</td>\n",
       "      <td>0.1</td>\n",
       "      <td>1.71</td>\n",
       "      <td>3.86</td>\n",
       "      <td>RP</td>\n",
       "      <td>0.0</td>\n",
       "    </tr>\n",
       "    <tr>\n",
       "      <th>15740</th>\n",
       "      <td>2010</td>\n",
       "      <td>1</td>\n",
       "      <td>1</td>\n",
       "      <td>0</td>\n",
       "      <td>0</td>\n",
       "      <td>0</td>\n",
       "      <td>0</td>\n",
       "      <td>0</td>\n",
       "      <td>5.0</td>\n",
       "      <td>6</td>\n",
       "      <td>...</td>\n",
       "      <td>0</td>\n",
       "      <td>0</td>\n",
       "      <td>3</td>\n",
       "      <td>5.4</td>\n",
       "      <td>79.0</td>\n",
       "      <td>0.1</td>\n",
       "      <td>1.20</td>\n",
       "      <td>3.60</td>\n",
       "      <td>SP</td>\n",
       "      <td>0.0</td>\n",
       "    </tr>\n",
       "    <tr>\n",
       "      <th>15741</th>\n",
       "      <td>2010</td>\n",
       "      <td>5</td>\n",
       "      <td>0</td>\n",
       "      <td>0</td>\n",
       "      <td>0</td>\n",
       "      <td>0</td>\n",
       "      <td>0</td>\n",
       "      <td>0</td>\n",
       "      <td>4.2</td>\n",
       "      <td>6</td>\n",
       "      <td>...</td>\n",
       "      <td>1</td>\n",
       "      <td>6</td>\n",
       "      <td>5</td>\n",
       "      <td>9.6</td>\n",
       "      <td>0.0</td>\n",
       "      <td>-0.2</td>\n",
       "      <td>2.57</td>\n",
       "      <td>9.64</td>\n",
       "      <td>RP</td>\n",
       "      <td>0.0</td>\n",
       "    </tr>\n",
       "    <tr>\n",
       "      <th>15742</th>\n",
       "      <td>2010</td>\n",
       "      <td>1</td>\n",
       "      <td>1</td>\n",
       "      <td>0</td>\n",
       "      <td>0</td>\n",
       "      <td>0</td>\n",
       "      <td>0</td>\n",
       "      <td>0</td>\n",
       "      <td>3.1</td>\n",
       "      <td>4</td>\n",
       "      <td>...</td>\n",
       "      <td>2</td>\n",
       "      <td>5</td>\n",
       "      <td>3</td>\n",
       "      <td>8.1</td>\n",
       "      <td>84.0</td>\n",
       "      <td>0.0</td>\n",
       "      <td>2.70</td>\n",
       "      <td>5.40</td>\n",
       "      <td>SP</td>\n",
       "      <td>0.0</td>\n",
       "    </tr>\n",
       "    <tr>\n",
       "      <th>15743</th>\n",
       "      <td>2010</td>\n",
       "      <td>4</td>\n",
       "      <td>0</td>\n",
       "      <td>0</td>\n",
       "      <td>0</td>\n",
       "      <td>1</td>\n",
       "      <td>0</td>\n",
       "      <td>1</td>\n",
       "      <td>2.1</td>\n",
       "      <td>3</td>\n",
       "      <td>...</td>\n",
       "      <td>2</td>\n",
       "      <td>1</td>\n",
       "      <td>2</td>\n",
       "      <td>7.7</td>\n",
       "      <td>0.0</td>\n",
       "      <td>-0.2</td>\n",
       "      <td>1.71</td>\n",
       "      <td>15.43</td>\n",
       "      <td>RP</td>\n",
       "      <td>0.0</td>\n",
       "    </tr>\n",
       "  </tbody>\n",
       "</table>\n",
       "<p>15725 rows × 21 columns</p>\n",
       "</div>"
      ],
      "text/plain": [
       "       Year  GP  GS  QS   W  L  SV  HLD     IP    H  ...  HR  BB    K  K/9  \\\n",
       "0      2023  34  34  20  17  9   0    0  210.0  188  ...  22  47  220  9.4   \n",
       "1      2023  30  30  18  12  8   0    0  177.2  143  ...  20  69  187  9.5   \n",
       "2      2023  29  27   7   8  8   0    0  144.0  159  ...  24  46   96  6.0   \n",
       "3      2023  19  18   3   3  9   0    0   96.0  109  ...  22  26   94  8.8   \n",
       "4      2023  17  16   6   5  4   0    0   89.0   86  ...  12  35   64  6.5   \n",
       "...     ...  ..  ..  ..  .. ..  ..  ...    ...  ...  ...  ..  ..  ...  ...   \n",
       "15739  2010   7   0   0   0  0   0    0    7.0   10  ...   0   2    4  5.1   \n",
       "15740  2010   1   1   0   0  0   0    0    5.0    6  ...   0   0    3  5.4   \n",
       "15741  2010   5   0   0   0  0   0    0    4.2    6  ...   1   6    5  9.6   \n",
       "15742  2010   1   1   0   0  0   0    0    3.1    4  ...   2   5    3  8.1   \n",
       "15743  2010   4   0   0   0  1   0    1    2.1    3  ...   2   1    2  7.7   \n",
       "\n",
       "        P/S  WAR  WHIP    ERA  Position Injury  \n",
       "0      95.5  4.4  1.12   3.47        SP    0.0  \n",
       "1      93.4  3.9  1.19   3.29        SP    0.0  \n",
       "2      84.5  0.0  1.42   5.31        SP    0.0  \n",
       "3      85.2 -0.4  1.41   5.72        SP    0.0  \n",
       "4      86.3  1.1  1.36   4.15        SP    0.0  \n",
       "...     ...  ...   ...    ...       ...    ...  \n",
       "15739   0.0  0.1  1.71   3.86        RP    0.0  \n",
       "15740  79.0  0.1  1.20   3.60        SP    0.0  \n",
       "15741   0.0 -0.2  2.57   9.64        RP    0.0  \n",
       "15742  84.0  0.0  2.70   5.40        SP    0.0  \n",
       "15743   0.0 -0.2  1.71  15.43        RP    0.0  \n",
       "\n",
       "[15725 rows x 21 columns]"
      ]
     },
     "execution_count": 579,
     "metadata": {},
     "output_type": "execute_result"
    }
   ],
   "source": [
    "merged_df"
   ]
  },
  {
   "cell_type": "markdown",
   "id": "d044d26e",
   "metadata": {},
   "source": [
    "## 4. Convert categorical varibales"
   ]
  },
  {
   "cell_type": "code",
   "execution_count": 580,
   "id": "0b6b9497",
   "metadata": {},
   "outputs": [],
   "source": [
    "merged_df = pd.get_dummies(merged_df, columns=['Position'])"
   ]
  },
  {
   "cell_type": "code",
   "execution_count": 581,
   "id": "87e5f087",
   "metadata": {},
   "outputs": [
    {
     "name": "stdout",
     "output_type": "stream",
     "text": [
      "Index(['Year', 'GP', 'GS', 'QS', 'W', 'L', 'SV', 'HLD', 'IP', 'H', 'ER', 'HR',\n",
      "       'BB', 'K', 'K/9', 'P/S', 'WAR', 'WHIP', 'ERA', 'Injury', 'Position_B',\n",
      "       'Position_C', 'Position_CF', 'Position_DH', 'Position_IVSP',\n",
      "       'Position_LF', 'Position_OF', 'Position_P', 'Position_RF',\n",
      "       'Position_RP', 'Position_SP', 'Position_SS', 'Position_UN'],\n",
      "      dtype='object')\n"
     ]
    }
   ],
   "source": [
    "print(merged_df.columns)"
   ]
  },
  {
   "cell_type": "markdown",
   "id": "2d6e9604",
   "metadata": {},
   "source": [
    "## 5. Split"
   ]
  },
  {
   "cell_type": "code",
   "execution_count": 582,
   "id": "9b7c9a6c",
   "metadata": {},
   "outputs": [
    {
     "ename": "SyntaxError",
     "evalue": "invalid syntax (2172684160.py, line 3)",
     "output_type": "error",
     "traceback": [
      "\u001b[1;36m  Input \u001b[1;32mIn [582]\u001b[1;36m\u001b[0m\n\u001b[1;33m    validation = merged_df[(merged_df['Year'] >= 2016) & (merged_df['Year'] <= 2019)]\u001b[0m\n\u001b[1;37m    ^\u001b[0m\n\u001b[1;31mSyntaxError\u001b[0m\u001b[1;31m:\u001b[0m invalid syntax\n"
     ]
    }
   ],
   "source": [
    "train = merged_df[(merged_df['Year'] <= 2015)\n",
    "\n",
    "validation = merged_df[(merged_df['Year'] >= 2016) & (merged_df['Year'] <= 2019)]\n",
    "\n",
    "test = merged_df[merged_df['Year'] >= 2019]\n",
    "\n"
   ]
  },
  {
   "cell_type": "code",
   "execution_count": 583,
   "id": "e21d4ec1",
   "metadata": {},
   "outputs": [
    {
     "data": {
      "text/plain": [
       "GP               0\n",
       "GS               0\n",
       "QS               0\n",
       "W                0\n",
       "L                0\n",
       "SV               0\n",
       "HLD              0\n",
       "IP               0\n",
       "H                0\n",
       "ER               0\n",
       "HR               0\n",
       "BB               0\n",
       "K                0\n",
       "K/9              0\n",
       "P/S              0\n",
       "WAR              0\n",
       "WHIP             0\n",
       "ERA              0\n",
       "Position_B       0\n",
       "Position_C       0\n",
       "Position_CF      0\n",
       "Position_DH      0\n",
       "Position_IVSP    0\n",
       "Position_LF      0\n",
       "Position_OF      0\n",
       "Position_P       0\n",
       "Position_RF      0\n",
       "Position_RP      0\n",
       "Position_SP      0\n",
       "Position_SS      0\n",
       "Position_UN      0\n",
       "dtype: int64"
      ]
     },
     "execution_count": 583,
     "metadata": {},
     "output_type": "execute_result"
    }
   ],
   "source": [
    "x_train = train.drop(['Injury',\"Year\"], axis=1)\n",
    "x_vali = validation.drop(['Injury',\"Year\"], axis=1)\n",
    "x_test = test.drop(['Injury',\"Year\"], axis=1)\n",
    "\n",
    "# Creating target variable sets\n",
    "y_train = train['Injury']\n",
    "y_vali = validation['Injury']\n",
    "y_test = test['Injury']\n",
    "\n",
    "# Check for missing values \n",
    "x_train.isnull().sum()"
   ]
  },
  {
   "cell_type": "code",
   "execution_count": 584,
   "id": "86e300a1",
   "metadata": {},
   "outputs": [
    {
     "data": {
      "text/plain": [
       "0"
      ]
     },
     "execution_count": 584,
     "metadata": {},
     "output_type": "execute_result"
    }
   ],
   "source": [
    "y_train.isnull().sum()"
   ]
  },
  {
   "cell_type": "code",
   "execution_count": 585,
   "id": "03fcce71",
   "metadata": {},
   "outputs": [
    {
     "name": "stdout",
     "output_type": "stream",
     "text": [
      "Original dataset shape Counter({0.0: 4114, 1.0: 703})\n"
     ]
    }
   ],
   "source": [
    "from collections import Counter\n",
    "print('Original dataset shape', Counter(y_train))"
   ]
  },
  {
   "cell_type": "code",
   "execution_count": 586,
   "id": "ee86689c",
   "metadata": {},
   "outputs": [
    {
     "name": "stdout",
     "output_type": "stream",
     "text": [
      "Original dataset shape Counter({0.0: 4114, 1.0: 4114})\n"
     ]
    }
   ],
   "source": [
    "from imblearn.over_sampling import SMOTE\n",
    "smote = SMOTE()\n",
    "x_train, y_train = smote.fit_resample(x_train, y_train.ravel())\n",
    "print('Original dataset shape', Counter(y_train))"
   ]
  },
  {
   "cell_type": "markdown",
   "id": "6b56981c",
   "metadata": {},
   "source": [
    "## 6. Model building"
   ]
  },
  {
   "cell_type": "code",
   "execution_count": 587,
   "id": "6cc71e70",
   "metadata": {},
   "outputs": [],
   "source": [
    "from xgboost import XGBClassifier\n",
    "import xgboost as xgb\n",
    "xgb_model = XGBClassifier().fit(x_train, y_train)\n",
    "predictions = xgb_model.predict(x_vali)\n",
    "actuals = y_vali"
   ]
  },
  {
   "cell_type": "code",
   "execution_count": 588,
   "id": "ed97615f",
   "metadata": {},
   "outputs": [
    {
     "data": {
      "image/png": "[encoded data removed]",
      "text/plain": [
       "<Figure size 720x720 with 1 Axes>"
      ]
     },
     "metadata": {
      "needs_background": "light"
     },
     "output_type": "display_data"
    }
   ],
   "source": [
    "fig, ax = plt.subplots(figsize=(10,10))\n",
    "xgb.plot_importance(xgb_model, max_num_features=50, height=0.5, ax=ax,importance_type='gain')\n",
    "plt.show()"
   ]
  },
  {
   "cell_type": "code",
   "execution_count": 589,
   "id": "0da7bf12",
   "metadata": {},
   "outputs": [
    {
     "data": {
      "image/png": "[encoded data removed]",
      "text/plain": [
       "<Figure size 720x720 with 1 Axes>"
      ]
     },
     "metadata": {
      "needs_background": "light"
     },
     "output_type": "display_data"
    }
   ],
   "source": [
    "fig, ax = plt.subplots(figsize=(10,10))\n",
    "xgb.plot_importance(xgb_model, max_num_features=50, height=0.5, ax=ax,importance_type='weight')\n",
    "plt.show()"
   ]
  },
  {
   "cell_type": "code",
   "execution_count": 590,
   "id": "df7c8fc4",
   "metadata": {},
   "outputs": [
    {
     "name": "stdout",
     "output_type": "stream",
     "text": [
      "[[703  79]\n",
      " [ 90  20]]\n",
      "accuracy_score: 0.8105381165919282\n",
      "Precision_score: 0.20202020202020202\n",
      "F1_score: 0.1913875598086124\n",
      "Roc_auc 0.6150720762613346\n"
     ]
    }
   ],
   "source": [
    "from sklearn.metrics import f1_score\n",
    "from sklearn.metrics import accuracy_score\n",
    "from sklearn.metrics import precision_score\n",
    "from sklearn.metrics import roc_auc_score\n",
    "\n",
    "from sklearn.ensemble import RandomForestClassifier\n",
    "randomforest_model = RandomForestClassifier()\n",
    "randomforest_model.fit(x_train, y_train)\n",
    "\n",
    "predictions = randomforest_model.predict(x_vali)\n",
    "\n",
    "actuals = y_vali\n",
    "\n",
    "print(confusion_matrix(actuals, predictions))\n",
    "print(\"accuracy_score:\", accuracy_score(actuals, predictions))\n",
    "print(\"Precision_score:\", precision_score(actuals, predictions))\n",
    "print(\"F1_score:\", f1_score(actuals, predictions))\n",
    "print(\"Roc_auc\", roc_auc_score(actuals, randomforest_model.predict_proba(x_vali)[:, 1]))"
   ]
  },
  {
   "cell_type": "code",
   "execution_count": 591,
   "id": "ec6b7ed6",
   "metadata": {},
   "outputs": [
    {
     "name": "stdout",
     "output_type": "stream",
     "text": [
      "[[516 266]\n",
      " [ 47  63]]\n",
      "accuracy_score: 0.649103139013453\n",
      "Precision_score: 0.19148936170212766\n",
      "F1_score: 0.2870159453302961\n",
      "Roc_auc 0.63552662171588\n"
     ]
    },
    {
     "name": "stderr",
     "output_type": "stream",
     "text": [
      "C:\\Users\\potat\\anaconda3\\lib\\site-packages\\sklearn\\linear_model\\_logistic.py:444: ConvergenceWarning: lbfgs failed to converge (status=1):\n",
      "STOP: TOTAL NO. of ITERATIONS REACHED LIMIT.\n",
      "\n",
      "Increase the number of iterations (max_iter) or scale the data as shown in:\n",
      "    https://scikit-learn.org/stable/modules/preprocessing.html\n",
      "Please also refer to the documentation for alternative solver options:\n",
      "    https://scikit-learn.org/stable/modules/linear_model.html#logistic-regression\n",
      "  n_iter_i = _check_optimize_result(\n"
     ]
    }
   ],
   "source": [
    "from sklearn.linear_model import LogisticRegression\n",
    "LR_model = LogisticRegression()\n",
    "LR_model.fit(x_train, y_train)\n",
    "\n",
    "predictions = LR_model.predict(x_vali)\n",
    "\n",
    "actuals = y_vali\n",
    "\n",
    "print(confusion_matrix(actuals, predictions))\n",
    "print(\"accuracy_score:\", accuracy_score(actuals, predictions))\n",
    "print(\"Precision_score:\", precision_score(actuals, predictions))\n",
    "print(\"F1_score:\", f1_score(actuals, predictions))\n",
    "print(\"Roc_auc\", roc_auc_score(actuals, LR_model.predict_proba(x_vali)[:, 1]))"
   ]
  },
  {
   "cell_type": "code",
   "execution_count": 592,
   "id": "171bff61",
   "metadata": {},
   "outputs": [
    {
     "name": "stdout",
     "output_type": "stream",
     "text": [
      "[[696  86]\n",
      " [ 84  26]]\n",
      "accuracy_score: 0.8094170403587444\n",
      "Precision_score: 0.23214285714285715\n",
      "F1_score: 0.2342342342342342\n",
      "Roc_auc 0.6075098814229248\n"
     ]
    }
   ],
   "source": [
    "from xgboost import XGBClassifier\n",
    "import xgboost as xgb\n",
    "\n",
    "xgb_model = XGBClassifier().fit(x_train, y_train)\n",
    "\n",
    "predictions = xgb_model.predict(x_vali)\n",
    "\n",
    "actuals = y_vali\n",
    "\n",
    "print(confusion_matrix(actuals, predictions))\n",
    "print(\"accuracy_score:\", accuracy_score(actuals, predictions))\n",
    "print(\"Precision_score:\", precision_score(actuals, predictions))\n",
    "print(\"F1_score:\", f1_score(actuals, predictions))\n",
    "print(\"Roc_auc\", roc_auc_score(actuals, xgb_model.predict_proba(x_vali)[:, 1]))"
   ]
  },
  {
   "cell_type": "code",
   "execution_count": 593,
   "id": "3bbf86b3",
   "metadata": {},
   "outputs": [
    {
     "name": "stdout",
     "output_type": "stream",
     "text": [
      "[[505 277]\n",
      " [ 56  54]]\n",
      "accuracy_score: 0.6266816143497758\n",
      "Precision_score: 0.16314199395770393\n",
      "F1_score: 0.24489795918367344\n",
      "Roc_auc 0.6163682864450128\n"
     ]
    }
   ],
   "source": [
    "from sklearn.neural_network import MLPClassifier\n",
    "mlp=MLPClassifier()\n",
    "mlp_model = mlp.fit(x_train, y_train)\n",
    "predictions = mlp_model.predict(x_vali)\n",
    "\n",
    "actuals = y_vali\n",
    "\n",
    "print(confusion_matrix(actuals, predictions))\n",
    "print(\"accuracy_score:\", accuracy_score(actuals, predictions))\n",
    "print(\"Precision_score:\", precision_score(actuals, predictions))\n",
    "print(\"F1_score:\", f1_score(actuals, predictions))\n",
    "print(\"Roc_auc\", roc_auc_score(actuals, mlp_model.predict_proba(x_vali)[:, 1]))"
   ]
  },
  {
   "cell_type": "code",
   "execution_count": 594,
   "id": "588a1bcc",
   "metadata": {},
   "outputs": [
    {
     "name": "stdout",
     "output_type": "stream",
     "text": [
      "[[502 280]\n",
      " [ 46  64]]\n",
      "accuracy_score: 0.6345291479820628\n",
      "Precision_score: 0.18604651162790697\n",
      "F1_score: 0.2819383259911894\n",
      "Roc_auc 0.6493722390141827\n"
     ]
    }
   ],
   "source": [
    "from sklearn.model_selection import GridSearchCV\n",
    "from sklearn.svm import LinearSVC, SVC\n",
    "svm=SVC(probability=True)\n",
    "\n",
    "svm_model = svm.fit(x_train, y_train)\n",
    "predictions = svm_model.predict(x_vali)\n",
    "\n",
    "actuals = y_vali\n",
    "\n",
    "print(confusion_matrix(actuals, predictions))\n",
    "print(\"accuracy_score:\", accuracy_score(actuals, predictions))\n",
    "print(\"Precision_score:\", precision_score(actuals, predictions))\n",
    "print(\"F1_score:\", f1_score(actuals, predictions))\n",
    "print(\"Roc_auc\", roc_auc_score(actuals, svm_model.predict_proba(x_vali)[:, 1]))"
   ]
  },
  {
   "cell_type": "code",
   "execution_count": null,
   "id": "9544e17a",
   "metadata": {},
   "outputs": [],
   "source": []
  }
 ],
 "metadata": {
  "kernelspec": {
   "display_name": "Python 3 (ipykernel)",
   "language": "python",
   "name": "python3"
  },
  "language_info": {
   "codemirror_mode": {
    "name": "ipython",
    "version": 3
   },
   "file_extension": ".py",
   "mimetype": "text/x-python",
   "name": "python",
   "nbconvert_exporter": "python",
   "pygments_lexer": "ipython3",
   "version": "3.9.12"
  }
 },
 "nbformat": 4,
 "nbformat_minor": 5
}
